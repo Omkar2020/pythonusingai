{
  "nbformat": 4,
  "nbformat_minor": 0,
  "metadata": {
    "colab": {
      "provenance": [],
      "authorship_tag": "ABX9TyOQs0IC66kMRNnMuOgCPnsI",
      "include_colab_link": true
    },
    "kernelspec": {
      "name": "python3",
      "display_name": "Python 3"
    },
    "language_info": {
      "name": "python"
    }
  },
  "cells": [
    {
      "cell_type": "markdown",
      "metadata": {
        "id": "view-in-github",
        "colab_type": "text"
      },
      "source": [
        "<a href=\"https://colab.research.google.com/github/Omkar2020/pythonusingai/blob/main/day_03.ipynb\" target=\"_parent\"><img src=\"https://colab.research.google.com/assets/colab-badge.svg\" alt=\"Open In Colab\"/></a>"
      ]
    },
    {
      "cell_type": "code",
      "execution_count": null,
      "metadata": {
        "id": "N0khM-mCiAfR"
      },
      "outputs": [],
      "source": [
        "ticket_price = 90\n",
        "pocket_size=100\n",
        "\n"
      ]
    },
    {
      "cell_type": "code",
      "source": [
        "ticket_price"
      ],
      "metadata": {
        "colab": {
          "base_uri": "https://localhost:8080/"
        },
        "id": "jvmqYZ0TiMGo",
        "outputId": "773e7add-a9ff-419b-e03f-178069a03787"
      },
      "execution_count": null,
      "outputs": [
        {
          "output_type": "execute_result",
          "data": {
            "text/plain": [
              "90"
            ]
          },
          "metadata": {},
          "execution_count": 13
        }
      ]
    },
    {
      "cell_type": "code",
      "source": [
        "pocket_size"
      ],
      "metadata": {
        "colab": {
          "base_uri": "https://localhost:8080/"
        },
        "id": "Jo8WldjHj8sR",
        "outputId": "116f6834-bcb9-4ad9-986c-fed460a0d375"
      },
      "execution_count": null,
      "outputs": [
        {
          "output_type": "execute_result",
          "data": {
            "text/plain": [
              "100"
            ]
          },
          "metadata": {},
          "execution_count": 14
        }
      ]
    },
    {
      "cell_type": "code",
      "source": [
        "if ticket_price<=pocket_size:\n",
        " print (\"Hurray I can go for that Movies \")\n",
        "else:\n",
        "  print(\"I do not have enough money to enjoy the Movies\")\n"
      ],
      "metadata": {
        "colab": {
          "base_uri": "https://localhost:8080/"
        },
        "id": "ach13rU7kUWt",
        "outputId": "25e3b9d7-aade-4dda-f6c6-1f1505ce82a4"
      },
      "execution_count": null,
      "outputs": [
        {
          "output_type": "stream",
          "name": "stdout",
          "text": [
            "Hurray I can go for that Movies \n"
          ]
        }
      ]
    },
    {
      "cell_type": "code",
      "source": [
        "marks = 55\n",
        "if marks >= 90:\n",
        "  print (\"A+\")\n",
        "elif marks >= 80:\n",
        "  print (\"A\")\n",
        "elif marks >= 70:\n",
        "  print (\"B+\")\n",
        "elif marks >= 60:\n",
        "  print (\"A\")\n",
        "else :\n",
        "  print (\"Fail\")\n",
        "\n"
      ],
      "metadata": {
        "colab": {
          "base_uri": "https://localhost:8080/"
        },
        "id": "i8WK0Hpyl8c4",
        "outputId": "d031b451-042e-46e6-a85b-2b2c08947bdf"
      },
      "execution_count": null,
      "outputs": [
        {
          "output_type": "stream",
          "name": "stdout",
          "text": [
            "Fail\n"
          ]
        }
      ]
    },
    {
      "cell_type": "code",
      "source": [
        "num1 = 11\n",
        "if (num1%2)==0:\n",
        "  print (\"The Number is Even\")\n",
        "else:\n",
        "  print(\"The Number is Odd\")\n"
      ],
      "metadata": {
        "colab": {
          "base_uri": "https://localhost:8080/"
        },
        "id": "BzUJFMxRme2m",
        "outputId": "f8577584-50d9-4036-c723-66e1f6f075b8"
      },
      "execution_count": null,
      "outputs": [
        {
          "output_type": "stream",
          "name": "stdout",
          "text": [
            "The Number is Odd\n"
          ]
        }
      ]
    },
    {
      "cell_type": "code",
      "source": [
        "Year = 2020\n",
        "if (Year%400 == 0 ) or (Year%4) == 0 and (Year%100) != 0:\n",
        "    print (\"The Year is Leap Year\")\n",
        "else:\n",
        "      print(\"The Year is Not Leap Year\")\n",
        "\n"
      ],
      "metadata": {
        "colab": {
          "base_uri": "https://localhost:8080/"
        },
        "id": "1XysmY595ZA3",
        "outputId": "3a821499-c4f5-4221-9eeb-65f159b10528"
      },
      "execution_count": null,
      "outputs": [
        {
          "output_type": "stream",
          "name": "stdout",
          "text": [
            "The Year is Leap Year\n"
          ]
        }
      ]
    },
    {
      "cell_type": "code",
      "source": [
        "#Eligibilty for Voting\n",
        "Age = 16\n",
        "if Age >= 18:\n",
        "  print(\"You are Eligible for Voting\")\n",
        "else:\n",
        "  print(\"You are Not Eligible for Voting\")"
      ],
      "metadata": {
        "colab": {
          "base_uri": "https://localhost:8080/"
        },
        "id": "Y3ztN5D3714P",
        "outputId": "7086f4cb-4b28-448f-ee04-7ed855672efd"
      },
      "execution_count": null,
      "outputs": [
        {
          "output_type": "stream",
          "name": "stdout",
          "text": [
            "You are Not Eligible for Voting\n"
          ]
        }
      ]
    },
    {
      "cell_type": "code",
      "source": [
        "a = 10\n",
        "b = 42\n",
        "c = 42\n",
        "\n",
        "if (a>=b) and (a>=c):\n",
        "  print(\"A is the Greatest Number\")\n",
        "elif (b>=a) and (b>=c) and (b!=c):\n",
        "  print(\"B is the Greatest Number\")\n",
        "elif (c>=a) and (c>=b) and (c!=b):\n",
        "  print(\"C is the Greatest Number\")\n",
        "else:\n",
        "  print(\"There is a Tie between both the Numbers\")\n"
      ],
      "metadata": {
        "colab": {
          "base_uri": "https://localhost:8080/"
        },
        "id": "h2Ief2mP72DB",
        "outputId": "acfa0db4-3a90-46c1-dc8f-0824f96fa855"
      },
      "execution_count": null,
      "outputs": [
        {
          "output_type": "stream",
          "name": "stdout",
          "text": [
            "There is a Tie between both the Numbers\n"
          ]
        }
      ]
    },
    {
      "cell_type": "code",
      "source": [
        "color = \"purpule\"\n",
        "if color == \"red\":\n",
        "  print (\"STOP\")\n",
        "elif color == \"green\":\n",
        "  print(\"Go\")\n",
        "elif color == \"yellow\":\n",
        "  print(\"Slow Down\")\n",
        "else:\n",
        "  print (\"Invalid Color\")\n"
      ],
      "metadata": {
        "colab": {
          "base_uri": "https://localhost:8080/"
        },
        "id": "7Yonb-AR72Ma",
        "outputId": "66e0d0e7-1800-45b0-b0f1-b5c16edd88b4"
      },
      "execution_count": null,
      "outputs": [
        {
          "output_type": "stream",
          "name": "stdout",
          "text": [
            "Invalid Color\n"
          ]
        }
      ]
    }
  ]
}